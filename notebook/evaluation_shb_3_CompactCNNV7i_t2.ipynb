{
 "cells": [
  {
   "cell_type": "code",
   "execution_count": 1,
   "metadata": {},
   "outputs": [],
   "source": [
    "import pandas as pd"
   ]
  },
  {
   "cell_type": "code",
   "execution_count": 2,
   "metadata": {},
   "outputs": [],
   "source": [
    "data_path = \"../log/evaluation_shb_CompactCNNV7i_t2.txt\""
   ]
  },
  {
   "cell_type": "code",
   "execution_count": 3,
   "metadata": {},
   "outputs": [],
   "source": [
    "df = pd.read_csv(data_path, header=None, sep=\" \")\n",
    "df.columns=[\"name\", \"gt_density\", \"gt_count\", \"pred\"]"
   ]
  },
  {
   "cell_type": "code",
   "execution_count": 4,
   "metadata": {},
   "outputs": [
    {
     "data": {
      "text/html": [
       "<div>\n",
       "<style scoped>\n",
       "    .dataframe tbody tr th:only-of-type {\n",
       "        vertical-align: middle;\n",
       "    }\n",
       "\n",
       "    .dataframe tbody tr th {\n",
       "        vertical-align: top;\n",
       "    }\n",
       "\n",
       "    .dataframe thead th {\n",
       "        text-align: right;\n",
       "    }\n",
       "</style>\n",
       "<table border=\"1\" class=\"dataframe\">\n",
       "  <thead>\n",
       "    <tr style=\"text-align: right;\">\n",
       "      <th></th>\n",
       "      <th>name</th>\n",
       "      <th>gt_density</th>\n",
       "      <th>gt_count</th>\n",
       "      <th>pred</th>\n",
       "    </tr>\n",
       "  </thead>\n",
       "  <tbody>\n",
       "    <tr>\n",
       "      <th>0</th>\n",
       "      <td>IMG_1</td>\n",
       "      <td>21.938055</td>\n",
       "      <td>23</td>\n",
       "      <td>27.056337</td>\n",
       "    </tr>\n",
       "    <tr>\n",
       "      <th>1</th>\n",
       "      <td>IMG_10</td>\n",
       "      <td>168.015335</td>\n",
       "      <td>181</td>\n",
       "      <td>171.466995</td>\n",
       "    </tr>\n",
       "    <tr>\n",
       "      <th>2</th>\n",
       "      <td>IMG_100</td>\n",
       "      <td>154.466904</td>\n",
       "      <td>157</td>\n",
       "      <td>107.567741</td>\n",
       "    </tr>\n",
       "    <tr>\n",
       "      <th>3</th>\n",
       "      <td>IMG_101</td>\n",
       "      <td>34.326912</td>\n",
       "      <td>37</td>\n",
       "      <td>41.111763</td>\n",
       "    </tr>\n",
       "    <tr>\n",
       "      <th>4</th>\n",
       "      <td>IMG_102</td>\n",
       "      <td>65.542725</td>\n",
       "      <td>70</td>\n",
       "      <td>74.637390</td>\n",
       "    </tr>\n",
       "  </tbody>\n",
       "</table>\n",
       "</div>"
      ],
      "text/plain": [
       "      name  gt_density  gt_count        pred\n",
       "0    IMG_1   21.938055        23   27.056337\n",
       "1   IMG_10  168.015335       181  171.466995\n",
       "2  IMG_100  154.466904       157  107.567741\n",
       "3  IMG_101   34.326912        37   41.111763\n",
       "4  IMG_102   65.542725        70   74.637390"
      ]
     },
     "execution_count": 4,
     "metadata": {},
     "output_type": "execute_result"
    }
   ],
   "source": [
    "df.head()"
   ]
  },
  {
   "cell_type": "code",
   "execution_count": 5,
   "metadata": {},
   "outputs": [],
   "source": [
    "df[\"gt_generate_error\"] = abs(df[\"gt_count\"]-df[\"gt_density\"])"
   ]
  },
  {
   "cell_type": "code",
   "execution_count": 6,
   "metadata": {},
   "outputs": [],
   "source": [
    "df[\"pred_error\"] = abs(df[\"gt_count\"]-df[\"pred\"])\n",
    "df[\"pred_error2\"] = abs(df[\"gt_density\"]-df[\"pred\"])"
   ]
  },
  {
   "cell_type": "code",
   "execution_count": 7,
   "metadata": {},
   "outputs": [
    {
     "name": "stdout",
     "output_type": "stream",
     "text": [
      "7.338098435462276\n"
     ]
    }
   ],
   "source": [
    "gt_generate_mae = df[\"gt_generate_error\"].mean()\n",
    "print(gt_generate_mae)"
   ]
  },
  {
   "cell_type": "code",
   "execution_count": 8,
   "metadata": {},
   "outputs": [
    {
     "name": "stdout",
     "output_type": "stream",
     "text": [
      "15.029132263569892\n"
     ]
    }
   ],
   "source": [
    "pred_mae = df[\"pred_error\"].mean()\n",
    "print(pred_mae)"
   ]
  },
  {
   "cell_type": "code",
   "execution_count": 9,
   "metadata": {},
   "outputs": [
    {
     "name": "stdout",
     "output_type": "stream",
     "text": [
      "14.812069554872151\n"
     ]
    }
   ],
   "source": [
    "pred_mae2 = df[\"pred_error2\"].mean()\n",
    "print(pred_mae2)"
   ]
  },
  {
   "cell_type": "code",
   "execution_count": 10,
   "metadata": {},
   "outputs": [],
   "source": [
    "df[\"gt_generate_error_percentage\"] = abs(df[\"gt_count\"]-df[\"gt_density\"])/df[\"gt_count\"] * 100\n",
    "df[\"pred_error_percentage\"] = abs(df[\"gt_count\"]-df[\"pred\"])/df[\"gt_count\"] * 100"
   ]
  },
  {
   "cell_type": "code",
   "execution_count": 11,
   "metadata": {},
   "outputs": [
    {
     "data": {
      "text/html": [
       "<div>\n",
       "<style scoped>\n",
       "    .dataframe tbody tr th:only-of-type {\n",
       "        vertical-align: middle;\n",
       "    }\n",
       "\n",
       "    .dataframe tbody tr th {\n",
       "        vertical-align: top;\n",
       "    }\n",
       "\n",
       "    .dataframe thead th {\n",
       "        text-align: right;\n",
       "    }\n",
       "</style>\n",
       "<table border=\"1\" class=\"dataframe\">\n",
       "  <thead>\n",
       "    <tr style=\"text-align: right;\">\n",
       "      <th></th>\n",
       "      <th>name</th>\n",
       "      <th>gt_density</th>\n",
       "      <th>gt_count</th>\n",
       "      <th>pred</th>\n",
       "      <th>gt_generate_error</th>\n",
       "      <th>pred_error</th>\n",
       "      <th>pred_error2</th>\n",
       "      <th>gt_generate_error_percentage</th>\n",
       "      <th>pred_error_percentage</th>\n",
       "    </tr>\n",
       "  </thead>\n",
       "  <tbody>\n",
       "    <tr>\n",
       "      <th>0</th>\n",
       "      <td>IMG_1</td>\n",
       "      <td>21.938055</td>\n",
       "      <td>23</td>\n",
       "      <td>27.056337</td>\n",
       "      <td>1.061945</td>\n",
       "      <td>4.056337</td>\n",
       "      <td>5.118282</td>\n",
       "      <td>4.617152</td>\n",
       "      <td>17.636249</td>\n",
       "    </tr>\n",
       "    <tr>\n",
       "      <th>1</th>\n",
       "      <td>IMG_10</td>\n",
       "      <td>168.015335</td>\n",
       "      <td>181</td>\n",
       "      <td>171.466995</td>\n",
       "      <td>12.984665</td>\n",
       "      <td>9.533005</td>\n",
       "      <td>3.451660</td>\n",
       "      <td>7.173848</td>\n",
       "      <td>5.266853</td>\n",
       "    </tr>\n",
       "    <tr>\n",
       "      <th>2</th>\n",
       "      <td>IMG_100</td>\n",
       "      <td>154.466904</td>\n",
       "      <td>157</td>\n",
       "      <td>107.567741</td>\n",
       "      <td>2.533096</td>\n",
       "      <td>49.432259</td>\n",
       "      <td>46.899162</td>\n",
       "      <td>1.613437</td>\n",
       "      <td>31.485515</td>\n",
       "    </tr>\n",
       "    <tr>\n",
       "      <th>3</th>\n",
       "      <td>IMG_101</td>\n",
       "      <td>34.326912</td>\n",
       "      <td>37</td>\n",
       "      <td>41.111763</td>\n",
       "      <td>2.673088</td>\n",
       "      <td>4.111763</td>\n",
       "      <td>6.784851</td>\n",
       "      <td>7.224562</td>\n",
       "      <td>11.112873</td>\n",
       "    </tr>\n",
       "    <tr>\n",
       "      <th>4</th>\n",
       "      <td>IMG_102</td>\n",
       "      <td>65.542725</td>\n",
       "      <td>70</td>\n",
       "      <td>74.637390</td>\n",
       "      <td>4.457275</td>\n",
       "      <td>4.637390</td>\n",
       "      <td>9.094666</td>\n",
       "      <td>6.367536</td>\n",
       "      <td>6.624843</td>\n",
       "    </tr>\n",
       "  </tbody>\n",
       "</table>\n",
       "</div>"
      ],
      "text/plain": [
       "      name  gt_density  gt_count        pred  gt_generate_error  pred_error  \\\n",
       "0    IMG_1   21.938055        23   27.056337           1.061945    4.056337   \n",
       "1   IMG_10  168.015335       181  171.466995          12.984665    9.533005   \n",
       "2  IMG_100  154.466904       157  107.567741           2.533096   49.432259   \n",
       "3  IMG_101   34.326912        37   41.111763           2.673088    4.111763   \n",
       "4  IMG_102   65.542725        70   74.637390           4.457275    4.637390   \n",
       "\n",
       "   pred_error2  gt_generate_error_percentage  pred_error_percentage  \n",
       "0     5.118282                      4.617152              17.636249  \n",
       "1     3.451660                      7.173848               5.266853  \n",
       "2    46.899162                      1.613437              31.485515  \n",
       "3     6.784851                      7.224562              11.112873  \n",
       "4     9.094666                      6.367536               6.624843  "
      ]
     },
     "execution_count": 11,
     "metadata": {},
     "output_type": "execute_result"
    }
   ],
   "source": [
    "df.head()"
   ]
  },
  {
   "cell_type": "code",
   "execution_count": 12,
   "metadata": {},
   "outputs": [
    {
     "data": {
      "text/plain": [
       "5.966772023225838"
      ]
     },
     "execution_count": 12,
     "metadata": {},
     "output_type": "execute_result"
    }
   ],
   "source": [
    "df[\"gt_generate_error_percentage\"].mean()"
   ]
  },
  {
   "cell_type": "code",
   "execution_count": 13,
   "metadata": {},
   "outputs": [
    {
     "data": {
      "text/plain": [
       "12.624878158989976"
      ]
     },
     "execution_count": 13,
     "metadata": {},
     "output_type": "execute_result"
    }
   ],
   "source": [
    "df[\"pred_error_percentage\"].mean()"
   ]
  },
  {
   "cell_type": "code",
   "execution_count": null,
   "metadata": {},
   "outputs": [],
   "source": []
  }
 ],
 "metadata": {
  "kernelspec": {
   "display_name": "Python 3",
   "language": "python",
   "name": "python3"
  },
  "language_info": {
   "codemirror_mode": {
    "name": "ipython",
    "version": 3
   },
   "file_extension": ".py",
   "mimetype": "text/x-python",
   "name": "python",
   "nbconvert_exporter": "python",
   "pygments_lexer": "ipython3",
   "version": "3.8.1"
  }
 },
 "nbformat": 4,
 "nbformat_minor": 4
}
