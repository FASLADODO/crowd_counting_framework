{
 "cells": [
  {
   "cell_type": "code",
   "execution_count": 1,
   "metadata": {},
   "outputs": [],
   "source": [
    "import pandas as pd"
   ]
  },
  {
   "cell_type": "code",
   "execution_count": 2,
   "metadata": {},
   "outputs": [],
   "source": [
    "data_path = \"../log/evaluation_shb_BigTail13i_t1.txt\""
   ]
  },
  {
   "cell_type": "code",
   "execution_count": 3,
   "metadata": {},
   "outputs": [],
   "source": [
    "df = pd.read_csv(data_path, header=None, sep=\" \")\n",
    "df.columns=[\"name\", \"gt_density\", \"gt_count\", \"pred\"]"
   ]
  },
  {
   "cell_type": "code",
   "execution_count": 4,
   "metadata": {},
   "outputs": [
    {
     "data": {
      "text/html": [
       "<div>\n",
       "<style scoped>\n",
       "    .dataframe tbody tr th:only-of-type {\n",
       "        vertical-align: middle;\n",
       "    }\n",
       "\n",
       "    .dataframe tbody tr th {\n",
       "        vertical-align: top;\n",
       "    }\n",
       "\n",
       "    .dataframe thead th {\n",
       "        text-align: right;\n",
       "    }\n",
       "</style>\n",
       "<table border=\"1\" class=\"dataframe\">\n",
       "  <thead>\n",
       "    <tr style=\"text-align: right;\">\n",
       "      <th></th>\n",
       "      <th>name</th>\n",
       "      <th>gt_density</th>\n",
       "      <th>gt_count</th>\n",
       "      <th>pred</th>\n",
       "    </tr>\n",
       "  </thead>\n",
       "  <tbody>\n",
       "    <tr>\n",
       "      <th>0</th>\n",
       "      <td>IMG_1</td>\n",
       "      <td>21.938055</td>\n",
       "      <td>23</td>\n",
       "      <td>15.121191</td>\n",
       "    </tr>\n",
       "    <tr>\n",
       "      <th>1</th>\n",
       "      <td>IMG_10</td>\n",
       "      <td>168.015335</td>\n",
       "      <td>181</td>\n",
       "      <td>185.331696</td>\n",
       "    </tr>\n",
       "    <tr>\n",
       "      <th>2</th>\n",
       "      <td>IMG_100</td>\n",
       "      <td>154.466904</td>\n",
       "      <td>157</td>\n",
       "      <td>131.892746</td>\n",
       "    </tr>\n",
       "    <tr>\n",
       "      <th>3</th>\n",
       "      <td>IMG_101</td>\n",
       "      <td>34.326912</td>\n",
       "      <td>37</td>\n",
       "      <td>30.035917</td>\n",
       "    </tr>\n",
       "    <tr>\n",
       "      <th>4</th>\n",
       "      <td>IMG_102</td>\n",
       "      <td>65.542725</td>\n",
       "      <td>70</td>\n",
       "      <td>66.501656</td>\n",
       "    </tr>\n",
       "  </tbody>\n",
       "</table>\n",
       "</div>"
      ],
      "text/plain": [
       "      name  gt_density  gt_count        pred\n",
       "0    IMG_1   21.938055        23   15.121191\n",
       "1   IMG_10  168.015335       181  185.331696\n",
       "2  IMG_100  154.466904       157  131.892746\n",
       "3  IMG_101   34.326912        37   30.035917\n",
       "4  IMG_102   65.542725        70   66.501656"
      ]
     },
     "execution_count": 4,
     "metadata": {},
     "output_type": "execute_result"
    }
   ],
   "source": [
    "df.head()"
   ]
  },
  {
   "cell_type": "code",
   "execution_count": 5,
   "metadata": {},
   "outputs": [],
   "source": [
    "df[\"gt_generate_error\"] = abs(df[\"gt_count\"]-df[\"gt_density\"])"
   ]
  },
  {
   "cell_type": "code",
   "execution_count": 6,
   "metadata": {},
   "outputs": [],
   "source": [
    "df[\"pred_error\"] = abs(df[\"gt_count\"]-df[\"pred\"])\n",
    "df[\"pred_error2\"] = abs(df[\"gt_density\"]-df[\"pred\"])"
   ]
  },
  {
   "cell_type": "code",
   "execution_count": 7,
   "metadata": {},
   "outputs": [
    {
     "name": "stdout",
     "output_type": "stream",
     "text": [
      "7.338098435462276\n"
     ]
    }
   ],
   "source": [
    "gt_generate_mae = df[\"gt_generate_error\"].mean()\n",
    "print(gt_generate_mae)"
   ]
  },
  {
   "cell_type": "code",
   "execution_count": 8,
   "metadata": {},
   "outputs": [
    {
     "name": "stdout",
     "output_type": "stream",
     "text": [
      "12.229519746160205\n"
     ]
    }
   ],
   "source": [
    "pred_mae = df[\"pred_error\"].mean()\n",
    "print(pred_mae)"
   ]
  },
  {
   "cell_type": "code",
   "execution_count": 9,
   "metadata": {},
   "outputs": [
    {
     "name": "stdout",
     "output_type": "stream",
     "text": [
      "11.066216304521017\n"
     ]
    }
   ],
   "source": [
    "pred_mae2 = df[\"pred_error2\"].mean()\n",
    "print(pred_mae2)"
   ]
  },
  {
   "cell_type": "code",
   "execution_count": 10,
   "metadata": {},
   "outputs": [],
   "source": [
    "df[\"gt_generate_error_percentage\"] = abs(df[\"gt_count\"]-df[\"gt_density\"])/df[\"gt_count\"] * 100\n",
    "df[\"pred_error_percentage\"] = abs(df[\"gt_count\"]-df[\"pred\"])/df[\"gt_count\"] * 100"
   ]
  },
  {
   "cell_type": "code",
   "execution_count": 11,
   "metadata": {},
   "outputs": [
    {
     "data": {
      "text/html": [
       "<div>\n",
       "<style scoped>\n",
       "    .dataframe tbody tr th:only-of-type {\n",
       "        vertical-align: middle;\n",
       "    }\n",
       "\n",
       "    .dataframe tbody tr th {\n",
       "        vertical-align: top;\n",
       "    }\n",
       "\n",
       "    .dataframe thead th {\n",
       "        text-align: right;\n",
       "    }\n",
       "</style>\n",
       "<table border=\"1\" class=\"dataframe\">\n",
       "  <thead>\n",
       "    <tr style=\"text-align: right;\">\n",
       "      <th></th>\n",
       "      <th>name</th>\n",
       "      <th>gt_density</th>\n",
       "      <th>gt_count</th>\n",
       "      <th>pred</th>\n",
       "      <th>gt_generate_error</th>\n",
       "      <th>pred_error</th>\n",
       "      <th>pred_error2</th>\n",
       "      <th>gt_generate_error_percentage</th>\n",
       "      <th>pred_error_percentage</th>\n",
       "    </tr>\n",
       "  </thead>\n",
       "  <tbody>\n",
       "    <tr>\n",
       "      <th>0</th>\n",
       "      <td>IMG_1</td>\n",
       "      <td>21.938055</td>\n",
       "      <td>23</td>\n",
       "      <td>15.121191</td>\n",
       "      <td>1.061945</td>\n",
       "      <td>7.878809</td>\n",
       "      <td>6.816864</td>\n",
       "      <td>4.617152</td>\n",
       "      <td>34.255691</td>\n",
       "    </tr>\n",
       "    <tr>\n",
       "      <th>1</th>\n",
       "      <td>IMG_10</td>\n",
       "      <td>168.015335</td>\n",
       "      <td>181</td>\n",
       "      <td>185.331696</td>\n",
       "      <td>12.984665</td>\n",
       "      <td>4.331696</td>\n",
       "      <td>17.316360</td>\n",
       "      <td>7.173848</td>\n",
       "      <td>2.393202</td>\n",
       "    </tr>\n",
       "    <tr>\n",
       "      <th>2</th>\n",
       "      <td>IMG_100</td>\n",
       "      <td>154.466904</td>\n",
       "      <td>157</td>\n",
       "      <td>131.892746</td>\n",
       "      <td>2.533096</td>\n",
       "      <td>25.107254</td>\n",
       "      <td>22.574158</td>\n",
       "      <td>1.613437</td>\n",
       "      <td>15.991882</td>\n",
       "    </tr>\n",
       "    <tr>\n",
       "      <th>3</th>\n",
       "      <td>IMG_101</td>\n",
       "      <td>34.326912</td>\n",
       "      <td>37</td>\n",
       "      <td>30.035917</td>\n",
       "      <td>2.673088</td>\n",
       "      <td>6.964083</td>\n",
       "      <td>4.290995</td>\n",
       "      <td>7.224562</td>\n",
       "      <td>18.821845</td>\n",
       "    </tr>\n",
       "    <tr>\n",
       "      <th>4</th>\n",
       "      <td>IMG_102</td>\n",
       "      <td>65.542725</td>\n",
       "      <td>70</td>\n",
       "      <td>66.501656</td>\n",
       "      <td>4.457275</td>\n",
       "      <td>3.498344</td>\n",
       "      <td>0.958931</td>\n",
       "      <td>6.367536</td>\n",
       "      <td>4.997635</td>\n",
       "    </tr>\n",
       "  </tbody>\n",
       "</table>\n",
       "</div>"
      ],
      "text/plain": [
       "      name  gt_density  gt_count        pred  gt_generate_error  pred_error  \\\n",
       "0    IMG_1   21.938055        23   15.121191           1.061945    7.878809   \n",
       "1   IMG_10  168.015335       181  185.331696          12.984665    4.331696   \n",
       "2  IMG_100  154.466904       157  131.892746           2.533096   25.107254   \n",
       "3  IMG_101   34.326912        37   30.035917           2.673088    6.964083   \n",
       "4  IMG_102   65.542725        70   66.501656           4.457275    3.498344   \n",
       "\n",
       "   pred_error2  gt_generate_error_percentage  pred_error_percentage  \n",
       "0     6.816864                      4.617152              34.255691  \n",
       "1    17.316360                      7.173848               2.393202  \n",
       "2    22.574158                      1.613437              15.991882  \n",
       "3     4.290995                      7.224562              18.821845  \n",
       "4     0.958931                      6.367536               4.997635  "
      ]
     },
     "execution_count": 11,
     "metadata": {},
     "output_type": "execute_result"
    }
   ],
   "source": [
    "df.head()"
   ]
  },
  {
   "cell_type": "code",
   "execution_count": 12,
   "metadata": {},
   "outputs": [
    {
     "data": {
      "text/plain": [
       "5.966772023225838"
      ]
     },
     "execution_count": 12,
     "metadata": {},
     "output_type": "execute_result"
    }
   ],
   "source": [
    "df[\"gt_generate_error_percentage\"].mean()"
   ]
  },
  {
   "cell_type": "code",
   "execution_count": 13,
   "metadata": {},
   "outputs": [
    {
     "data": {
      "text/plain": [
       "11.322604763421914"
      ]
     },
     "execution_count": 13,
     "metadata": {},
     "output_type": "execute_result"
    }
   ],
   "source": [
    "df[\"pred_error_percentage\"].mean()"
   ]
  },
  {
   "cell_type": "code",
   "execution_count": null,
   "metadata": {},
   "outputs": [],
   "source": []
  }
 ],
 "metadata": {
  "kernelspec": {
   "display_name": "Python 3",
   "language": "python",
   "name": "python3"
  },
  "language_info": {
   "codemirror_mode": {
    "name": "ipython",
    "version": 3
   },
   "file_extension": ".py",
   "mimetype": "text/x-python",
   "name": "python",
   "nbconvert_exporter": "python",
   "pygments_lexer": "ipython3",
   "version": "3.8.1"
  }
 },
 "nbformat": 4,
 "nbformat_minor": 4
}
